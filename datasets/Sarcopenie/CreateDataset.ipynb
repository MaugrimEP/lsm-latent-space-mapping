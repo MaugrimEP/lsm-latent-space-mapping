{
 "cells": [
  {
   "cell_type": "markdown",
   "source": [
    "This script is used to process the existing dataset of DICOM images, and save the preprocessed images as new files on a folder"
   ],
   "metadata": {
    "collapsed": false
   }
  },
  {
   "cell_type": "markdown",
   "source": [
    "Imports"
   ],
   "metadata": {
    "collapsed": false
   }
  },
  {
   "cell_type": "code",
   "execution_count": 1,
   "outputs": [],
   "source": [
    "import os\n",
    "import random\n",
    "from PIL import Image\n",
    "import numpy as np\n",
    "import pydicom\n",
    "from skimage.measure import block_reduce\n",
    "\n",
    "from datasets.Sarcopenie.utils import transform_to_hu, normalize_pixel, crop_image, add_pad, crop_image_with_coord"
   ],
   "metadata": {
    "collapsed": false,
    "pycharm": {
     "name": "#%%\n"
    }
   }
  },
  {
   "cell_type": "markdown",
   "source": [
    "Variables"
   ],
   "metadata": {
    "collapsed": false
   }
  },
  {
   "cell_type": "code",
   "execution_count": 2,
   "metadata": {
    "collapsed": true
   },
   "outputs": [],
   "source": [
    "dataset_source_folder = \"C:/Users/tmayet/Documents/datasets/fusion/\"\n",
    "# dataset_destination_folder = \"C:/Users/tmayet/Documents/datasets/fusion_preprocessed128/\"\n",
    "dataset_destination_folder = \"C:/Users/tmayet/Documents/datasets/fusion_preprocessed128_4/\"\n",
    "\n",
    "# here we only take one part of the image in order to process the image faster\n",
    "image_size = [512, 512]\n",
    "\n",
    "# if None, will use the data from dicom\n",
    "window_level= None #  -320\n",
    "window_width = None # 800\n",
    "shuffle = True\n",
    "\n",
    "XY_proportion = 33\n",
    "XOnly_proportion = 40\n",
    "YOnly_proportion = 27\n",
    "proportion_total = XY_proportion + XOnly_proportion + YOnly_proportion"
   ]
  },
  {
   "cell_type": "markdown",
   "source": [
    "How one tuple of DICOM image is transformed into np.ndarry:"
   ],
   "metadata": {
    "collapsed": false,
    "pycharm": {
     "name": "#%% md\n"
    }
   }
  },
  {
   "cell_type": "code",
   "execution_count": 3,
   "outputs": [],
   "source": [
    "def preprocessing_image(x_dicom, y_dicom, intercept, slope, window_level, window_width, global_var) -> tuple[np.ndarray, np.ndarray, dict]:\n",
    "    # region do not touch\n",
    "    # fetch data from DICOM format\n",
    "    x: np.ndarray = x_dicom.pixel_array.astype(float)\n",
    "    y: np.ndarray = y_dicom.pixel_array.astype(float)\n",
    "\n",
    "    # transform the image in HU\n",
    "    x = transform_to_hu(x, intercept, slope)\n",
    "\n",
    "    # normalize the image\n",
    "    x = normalize_pixel(x, window_level, window_width)\n",
    "\n",
    "    # remove the background\n",
    "    x, top_left, bottom_right = crop_image(x, return_coord=True)\n",
    "    y = crop_image_with_coord(y, top_left, bottom_right)\n",
    "\n",
    "    global_var['max_height'] = max(x.shape[0], global_var['max_height'])\n",
    "    global_var['max_width'] = max(x.shape[1], global_var['max_width'])\n",
    "    global_var['min_height'] = min(x.shape[0], global_var['min_height'])\n",
    "    global_var['min_width'] = min(x.shape[1], global_var['min_width'])\n",
    "    # endregion\n",
    "\n",
    "    # pad image to the same size\n",
    "    x = add_pad(x, new_height=image_size[0], new_width=image_size[1], padding_value=0., vertical_padding='even', horizontal_padding='even')\n",
    "    y = add_pad(y, new_height=image_size[0], new_width=image_size[1], padding_value=0., vertical_padding='even', horizontal_padding='even')\n",
    "\n",
    "    # crop again if needed to match the desired dimension\n",
    "    # in the case we just want a subpart of the image\n",
    "    # x = crop_image_with_coord(x, top_left=[0, 0], bottom_right=image_size)\n",
    "    # y = crop_image_with_coord(y, top_left=[0, 0], bottom_right=image_size)\n",
    "\n",
    "    \"\"\"\n",
    "    multiple classes are present into Y mask: 0, 1, 5 and 10\n",
    "    we need to only have a continuous range of integer into y, so we need to map them\n",
    "    \"\"\"\n",
    "    not_in_range = np.logical_and(y!=0, y!=1)\n",
    "    not_in_range = np.logical_and(not_in_range, y!=5)\n",
    "    not_in_range = np.logical_and(not_in_range, y!=10)\n",
    "    y[not_in_range]=0\n",
    "\n",
    "    y[y==0]=0\n",
    "    y[y==1]=1\n",
    "    y[y==5]=2\n",
    "    y[y==10]=3\n",
    "\n",
    "    # if we just want one class we let this line\n",
    "    # otherwise we comment it\n",
    "    # y[y!=1]=0\n",
    "\n",
    "    # down sample the image\n",
    "    # if we want 512, 512 we can comment this lines\n",
    "    x = block_reduce(x, block_size=(4, 4), func=np.mean)\n",
    "    y = block_reduce(y, block_size=(4, 4), func=np.max)\n",
    "\n",
    "    return  x, y, global_var"
   ],
   "metadata": {
    "collapsed": false,
    "pycharm": {
     "name": "#%%\n"
    }
   }
  },
  {
   "cell_type": "code",
   "execution_count": 4,
   "outputs": [
    {
     "name": "stdout",
     "output_type": "stream",
     "text": [
      "number of patient folder: 527\n"
     ]
    }
   ],
   "source": [
    "# get all the patient folder in the dataset_source_folder\n",
    "folders = [folder_i_name for folder_i_name in os.listdir(dataset_source_folder)]\n",
    "print(f\"number of patient folder: {len(folders)}\")\n",
    "# print(folders)"
   ],
   "metadata": {
    "collapsed": false,
    "pycharm": {
     "name": "#%%\n"
    }
   }
  },
  {
   "cell_type": "code",
   "execution_count": 5,
   "outputs": [
    {
     "name": "stdout",
     "output_type": "stream",
     "text": [
      "Wrong number of files in C:/Users/tmayet/Documents/datasets/fusion/0522c0251-2762152755250732-115557\\sliceTDM/: 2 files found\n",
      "Wrong number of files in C:/Users/tmayet/Documents/datasets/fusion/0522c0251-2762152755250732-115557\\Mask/: 2 files found\n",
      "Wrong number of files in C:/Users/tmayet/Documents/datasets/fusion/R01-066-1488278016399684-104343\\sliceTDM/: 2 files found\n",
      "Wrong number of files in C:/Users/tmayet/Documents/datasets/fusion/SENIOR_15013101151001\\sliceTDM/: 2 files found\n",
      "Wrong number of files in C:/Users/tmayet/Documents/datasets/fusion/0522c0419-2762152755250732-114727\\sliceTDM/: 2 files found\n",
      "Wrong number of files in C:/Users/tmayet/Documents/datasets/fusion/0522c0419-2762152755250732-114727\\Mask/: 2 files found\n",
      "Wrong number of files in C:/Users/tmayet/Documents/datasets/fusion/0522c0276-2819497684894126-153338\\Mask/: 2 files found\n",
      "Wrong number of files in C:/Users/tmayet/Documents/datasets/fusion/0522c0248-2762152755250732-112254\\sliceTDM/: 2 files found\n",
      "Wrong number of files in C:/Users/tmayet/Documents/datasets/fusion/0522c0248-2762152755250732-112254\\Mask/: 2 files found\n",
      "Wrong number of files in C:/Users/tmayet/Documents/datasets/fusion/AMC-003-1348939992711289-090021\\sliceTDM/: 2 files found\n",
      "Wrong number of files in C:/Users/tmayet/Documents/datasets/fusion/AMC-003-1348939992711289-090021\\Mask/: 2 files found\n",
      "Wrong number of files in C:/Users/tmayet/Documents/datasets/fusion/0522c0117-2819497684894126-090152\\Mask/: 2 files found\n",
      "Wrong number of files in C:/Users/tmayet/Documents/datasets/fusion/0522c0034-2819497684894126-140955.312000\\Mask/: 2 files found\n",
      "Wrong number of files in C:/Users/tmayet/Documents/datasets/fusion/R01-098-4627481450933866-081100\\sliceTDM/: 2 files found\n",
      "Wrong number of files in C:/Users/tmayet/Documents/datasets/fusion/R01-098-4627481450933866-081100\\Mask/: 2 files found\n",
      "Wrong number of files in C:/Users/tmayet/Documents/datasets/fusion/AMC-046-2681519433412682-112107\\sliceTDM/: 3 files found\n",
      "Wrong number of files in C:/Users/tmayet/Documents/datasets/fusion/AMC-046-2681519433412682-112107\\Mask/: 3 files found\n",
      "Wrong number of files in C:/Users/tmayet/Documents/datasets/fusion/AMC-048-5900889423708937-081643\\sliceTDM/: 2 files found\n",
      "Wrong number of files in C:/Users/tmayet/Documents/datasets/fusion/AMC-048-5900889423708937-081643\\Mask/: 2 files found\n",
      "Wrong number of files in C:/Users/tmayet/Documents/datasets/fusion/R01-106-1759188186836010-075109.00\\Mask/: 2 files found\n",
      "Wrong number of files in C:/Users/tmayet/Documents/datasets/fusion/SENIOR_15013106341004\\sliceTDM/: 2 files found\n",
      "Wrong number of files in C:/Users/tmayet/Documents/datasets/fusion/AMC-023-3079787936364114-133326\\sliceTDM/: 2 files found\n",
      "Wrong number of files in C:/Users/tmayet/Documents/datasets/fusion/AMC-023-3079787936364114-133326\\Mask/: 2 files found\n",
      "Wrong number of files in C:/Users/tmayet/Documents/datasets/fusion/AMC-033-2895338545517030-143951.390000\\sliceTDM/: 2 files found\n",
      "Wrong number of files in C:/Users/tmayet/Documents/datasets/fusion/AMC-033-2895338545517030-143951.390000\\Mask/: 2 files found\n",
      "Wrong number of files in C:/Users/tmayet/Documents/datasets/fusion/R01-017-2250948233811258-131104\\Mask/: 2 files found\n",
      "END\n"
     ]
    }
   ],
   "source": [
    "def get_file(base_path: str, rest_path: str) -> str:\n",
    "    path = os.path.join(base_path, rest_path)\n",
    "\n",
    "    files = [f for f in os.listdir(path) if os.path.isfile(os.path.join(path, f))]\n",
    "\n",
    "    if len(files) != 1:\n",
    "        # raise Exception(f'Wrong number of files in {path}: {len(files)} files found')\n",
    "        print(f'Wrong number of files in {path}: {len(files)} files found')\n",
    "        files = [files[0]]\n",
    "\n",
    "    file = files[0]\n",
    "    return file\n",
    "\n",
    "def save_data(iteration: int, x_array: np.ndarray, y_array: np.ndarray, mode: str) -> None:\n",
    "    # Save as numpy array\n",
    "    x_save = os.path.join(dataset_destination_folder, f'{iteration}_x')\n",
    "    y_save = os.path.join(dataset_destination_folder, f'{iteration}_y')\n",
    "    mode_save = os.path.join(dataset_destination_folder, f'{iteration}_mode')\n",
    "\n",
    "    np.save(x_save+\"_numpy\", x)\n",
    "    np.save(y_save+\"_numpy\", y)\n",
    "    np.save(mode_save+\"_numpy\", {'XY': 1, 'X':2, 'Y':3}[mode])\n",
    "\n",
    "    # Save as image\n",
    "    x_image = Image.fromarray(x_array*255).convert('RGB')\n",
    "    y_image = Image.fromarray(y_array*255).convert('RGB')\n",
    "    x_image.save(x_save+\".jpeg\")\n",
    "    y_image.save(y_save+\".jpeg\")\n",
    "\n",
    "global_var = dict(\n",
    "    window_level_window_width=set(),\n",
    "    intercept_slope=set(),\n",
    "    max_width=-1,\n",
    "    max_height=-1,\n",
    "    min_height=99999,\n",
    "    min_width=99999,\n",
    ")\n",
    "if shuffle:\n",
    "    random.shuffle(folders)\n",
    "\n",
    "dataset_size = len(folders)\n",
    "number_of_xy = int(XY_proportion/proportion_total * dataset_size)\n",
    "number_of_x_only = int(XOnly_proportion/proportion_total * dataset_size)\n",
    "number_of_y_only = dataset_size - number_of_xy - number_of_x_only\n",
    "\n",
    "cpt_xy = 0\n",
    "cpt_x = 0\n",
    "cpt_y = 0\n",
    "\n",
    "for i, patient_folder in enumerate(folders):\n",
    "    path_to_patient = os.path.join(dataset_source_folder, patient_folder)\n",
    "    # print(path_to_patient)\n",
    "\n",
    "    x_file = get_file(path_to_patient, 'sliceTDM/')\n",
    "    y_file = get_file(path_to_patient, 'Mask/')\n",
    "\n",
    "    x_dicom = pydicom.dcmread(os.path.join(path_to_patient, 'sliceTDM/', x_file))\n",
    "    y_dicom = pydicom.dcmread(os.path.join(path_to_patient, 'Mask/', y_file))\n",
    "\n",
    "    # fetch dicom data\n",
    "    intercept = x_dicom.RescaleIntercept\n",
    "    slope = x_dicom.RescaleSlope\n",
    "\n",
    "    if window_level is None:\n",
    "        window_level = x_dicom.WindowCenter\n",
    "    if window_width is None:\n",
    "        window_width = x_dicom.WindowWidth\n",
    "    if not isinstance(window_level, (int, float)):\n",
    "        window_level = window_level[0]\n",
    "    if not isinstance(window_width, (int, float)):\n",
    "        window_width = window_width[0]\n",
    "\n",
    "    # process the data\n",
    "    global_var['intercept_slope'] |= {(intercept, slope)}\n",
    "    global_var['window_level_window_width'] |= {(window_level, window_width)}\n",
    "    x, y, global_var = preprocessing_image(x_dicom, y_dicom, intercept, slope, window_level, window_width, global_var)\n",
    "\n",
    "    # save the data\n",
    "    if i<number_of_xy:\n",
    "        mode='XY'\n",
    "        cpt_xy+=1\n",
    "    elif i<number_of_x_only+number_of_xy:\n",
    "        mode='X'\n",
    "        cpt_x +=1\n",
    "    else:\n",
    "        cpt_y += 1\n",
    "        mode='Y'\n",
    "    save_data(i, x, y, mode)\n",
    "\n",
    "print(\"END\")"
   ],
   "metadata": {
    "collapsed": false,
    "pycharm": {
     "name": "#%%\n"
    }
   }
  },
  {
   "cell_type": "code",
   "execution_count": 6,
   "outputs": [
    {
     "name": "stdout",
     "output_type": "stream",
     "text": [
      "number of patient folder: 527\n",
      "cpt_xy=173\n",
      "cpt_x=210\n",
      "cpt_y=144\n",
      "{'window_level_window_width': {('35.0', '350.0')}, 'intercept_slope': {('0.0', '1.0'), ('-1000.0', '1.0'), ('-1024.0', '1.0')}, 'max_width': 511, 'max_height': 504, 'min_height': 173, 'min_width': 294}\n"
     ]
    }
   ],
   "source": [
    "print(f\"number of patient folder: {len(folders)}\")\n",
    "print(f\"{cpt_xy=}\")\n",
    "print(f\"{cpt_x=}\")\n",
    "print(f\"{cpt_y=}\")\n",
    "print(global_var)\n",
    "# 511, 511 without the cropping"
   ],
   "metadata": {
    "collapsed": false,
    "pycharm": {
     "name": "#%%\n"
    }
   }
  }
 ],
 "metadata": {
  "kernelspec": {
   "display_name": "Python 3",
   "language": "python",
   "name": "python3"
  },
  "language_info": {
   "codemirror_mode": {
    "name": "ipython",
    "version": 2
   },
   "file_extension": ".py",
   "mimetype": "text/x-python",
   "name": "python",
   "nbconvert_exporter": "python",
   "pygments_lexer": "ipython2",
   "version": "2.7.6"
  }
 },
 "nbformat": 4,
 "nbformat_minor": 0
}
