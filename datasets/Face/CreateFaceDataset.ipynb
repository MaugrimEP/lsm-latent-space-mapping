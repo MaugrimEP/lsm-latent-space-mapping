{
 "cells": [
  {
   "cell_type": "markdown",
   "source": [
    "This script is used to process the existing dataset of faces images, and save the preprocessed images as new files on a folder"
   ],
   "metadata": {
    "collapsed": false
   }
  },
  {
   "cell_type": "markdown",
   "source": [
    "Imports"
   ],
   "metadata": {
    "collapsed": false
   }
  },
  {
   "cell_type": "code",
   "execution_count": 21,
   "outputs": [],
   "source": [
    "import math\n",
    "from typing import List, Tuple\n",
    "import os\n",
    "import random\n",
    "from PIL import Image\n",
    "import numpy as np\n",
    "import cv2"
   ],
   "metadata": {
    "collapsed": false
   }
  },
  {
   "cell_type": "markdown",
   "source": [
    "Variables"
   ],
   "metadata": {
    "collapsed": false
   }
  },
  {
   "cell_type": "code",
   "execution_count": 22,
   "metadata": {
    "collapsed": true
   },
   "outputs": [],
   "source": [
    "dataset_source_folder = \"C:/Users/tmayet/Documents/datasets/300W/\"\n",
    "indoor  = \"01_Indoor\"\n",
    "outdoor = \"02_Outdoor\"\n",
    "\n",
    "dataset_destination_folder = \"C:/Users/tmayet/Documents/datasets/300W_64/\"\n",
    "\n",
    "shuffle = True"
   ]
  },
  {
   "cell_type": "markdown",
   "source": [
    "How one tuple of data is transformed into np.ndarry:"
   ],
   "metadata": {
    "collapsed": false
   }
  },
  {
   "cell_type": "code",
   "execution_count": 23,
   "outputs": [],
   "source": [
    "def getPointFromFile(y_file: str) -> List[Tuple[int, int]]:\n",
    "    values = []\n",
    "    with open(y_file, 'rb') as f:\n",
    "        for i, line in enumerate(f):\n",
    "            line = line.decode(\"utf-8\")\n",
    "            try:\n",
    "                value1, value2 = line.split(\" \")\n",
    "                values.append( (float(value1), float(value2)) )\n",
    "            except Exception:\n",
    "                pass\n",
    "    return values"
   ],
   "metadata": {
    "collapsed": false
   }
  },
  {
   "cell_type": "code",
   "execution_count": 24,
   "outputs": [
    {
     "name": "stdout",
     "output_type": "stream",
     "text": [
      "len(files_indoor)=600\n",
      "len(files_outdoor)=600\n",
      "len(files_indoor_img)=300\n",
      "len(files_indoor_pts)=300\n",
      "len(files_outdoor_img)=300\n",
      "len(files_outdoor_pts)=300\n"
     ]
    }
   ],
   "source": [
    "def get_number(filename: str) -> int:\n",
    "    start_removed = filename.split('_')[-1]\n",
    "    end_removed   = start_removed.split('.')[0]\n",
    "    number = int(end_removed)\n",
    "    return number\n",
    "\n",
    "# get all the patient folder in the dataset_source_folder\n",
    "files_indoor = sorted(\n",
    "    [folder_i_name for folder_i_name in os.listdir(os.path.join(dataset_source_folder, indoor))],\n",
    "    key=get_number,\n",
    ")\n",
    "files_outdoor = sorted(\n",
    "    [folder_i_name for folder_i_name in os.listdir(os.path.join(dataset_source_folder, outdoor))],\n",
    "    key=get_number,\n",
    ")\n",
    "print(f\"{len(files_indoor)=}\")\n",
    "print(f\"{len(files_outdoor)=}\")\n",
    "files_indoor_img = [filename for filename in files_indoor if '.png' in filename]\n",
    "files_indoor_pts = [filename for filename in files_indoor if '.pts' in filename]\n",
    "\n",
    "files_outdoor_img = [filename for filename in files_outdoor if '.png' in filename]\n",
    "files_outdoor_pts = [filename for filename in files_outdoor if '.pts' in filename]\n",
    "\n",
    "print(f\"{len(files_indoor_img)=}\")\n",
    "print(f\"{len(files_indoor_pts)=}\")\n",
    "\n",
    "print(f\"{len(files_outdoor_img)=}\")\n",
    "print(f\"{len(files_outdoor_pts)=}\")\n",
    "files_indoor  = list(zip(files_indoor_img, files_indoor_pts, ['indoor']*len(files_indoor_img)))\n",
    "files_outdoor = list(zip(files_outdoor_img, files_outdoor_pts, ['outdoor']*len(files_outdoor_img)))\n"
   ],
   "metadata": {
    "collapsed": false
   }
  },
  {
   "cell_type": "code",
   "execution_count": 25,
   "outputs": [],
   "source": [
    "def save_data(\n",
    "        iteration: int,\n",
    "        x_array: np.ndarray,\n",
    "        y_array: np.ndarray,\n",
    "        original: int,\n",
    "        type_door: str\n",
    ") -> None:\n",
    "    # Save as numpy array\n",
    "    x_save = os.path.join(dataset_destination_folder, f'iter_{iteration}_original_{original}_type_{type_door}_x')\n",
    "    y_save = os.path.join(dataset_destination_folder, f'iter_{iteration}_original_{original}_type_{type_door}_y')\n",
    "\n",
    "    np.save(x_save+\"_numpy\", x_array)\n",
    "    np.save(y_save+\"_numpy\", y_array)\n",
    "\n",
    "    # Save as image\n",
    "    x_image = Image.fromarray(x_array.astype(np.uint8)).convert('RGB')\n",
    "    x_image.save(x_save+\".jpeg\")"
   ],
   "metadata": {
    "collapsed": false
   }
  },
  {
   "cell_type": "code",
   "execution_count": 26,
   "outputs": [
    {
     "name": "stdout",
     "output_type": "stream",
     "text": [
      "END\n"
     ]
    }
   ],
   "source": [
    "def preprocessing_image(x_file, y_file, global_var) -> tuple[np.ndarray, np.ndarray, dict]:\n",
    "    x: np.ndarray = cv2.imread(x_file).astype(np.uint8)\n",
    "    x = cv2.cvtColor(x, cv2.COLOR_BGR2RGB)\n",
    "\n",
    "    y: List[Tuple[int, int]] = getPointFromFile(y_file)\n",
    "\n",
    "    img_h, img_w = x.shape[0], x.shape[1]\n",
    "\n",
    "    max_height = math.ceil (max(y, key=lambda xy: xy[1])[1])\n",
    "    min_height = math.floor(min(y, key=lambda xy: xy[1])[1])\n",
    "    max_width  = math.ceil (max(y, key=lambda xy: xy[0])[0])\n",
    "    min_width  = math.floor(min(y, key=lambda xy: xy[0])[0])\n",
    "\n",
    "    height = max_height - min_height\n",
    "    width  = max_width  - min_width\n",
    "\n",
    "    # region if region in not square, make it square:\n",
    "    diff = abs(height-width)\n",
    "    if height<width:\n",
    "        top_add = diff//2\n",
    "        bottom_add = diff-top_add\n",
    "        left_add = 0\n",
    "        right_add = 0\n",
    "    else:\n",
    "        top_add = 0\n",
    "        bottom_add = 0\n",
    "        left_add = diff//2\n",
    "        right_add = diff-left_add\n",
    "\n",
    "    max_height += bottom_add\n",
    "    min_height -= top_add\n",
    "    max_width += right_add\n",
    "    min_width -= left_add\n",
    "    # endregion\n",
    "\n",
    "    # region fix if the square region is outside the image\n",
    "    if max_height>img_h:\n",
    "        diff = max_height-img_h\n",
    "        min_height -= diff\n",
    "        max_height = img_h\n",
    "\n",
    "    if min_height<0:\n",
    "        max_height += abs(min_height)\n",
    "        min_height = 0\n",
    "\n",
    "    if max_width>img_w:\n",
    "        diff = max_width-img_w\n",
    "        min_width -= diff\n",
    "        max_width = img_w\n",
    "\n",
    "    if min_width<0:\n",
    "        max_width += abs(min_width)\n",
    "        min_width = 0\n",
    "    # endregion\n",
    "\n",
    "    x = x[min_height:max_height, min_width:max_width, :]\n",
    "\n",
    "    # resize the image to 64, 64\n",
    "    x = cv2.resize(x, dsize=(64, 64))\n",
    "\n",
    "    # recenter the data\n",
    "    y = [(_x-min_width, _y-min_height) for _x, _y in y]\n",
    "    # rescale the data\n",
    "    scale_factor        = max_height-min_height # since image is square, other dim is the same\n",
    "    y = [(_x/scale_factor, _y/scale_factor) for _x, _y in y]\n",
    "\n",
    "    return  x, y, global_var\n",
    "\n",
    "global_var = dict(\n",
    "    max_width=-1,\n",
    "    max_height=-1,\n",
    "    min_height=99999,\n",
    "    min_width=99999,\n",
    ")\n",
    "if shuffle:\n",
    "    random.shuffle(files_indoor)\n",
    "    random.shuffle(files_outdoor)\n",
    "files = []\n",
    "for i in range(len(files_indoor)):\n",
    "    files.append(files_indoor[i])\n",
    "    files.append(files_outdoor[i])\n",
    "\n",
    "# files = [('outdoor_090.png', 'outdoor_090.pts', 'outdoor')]\n",
    "\n",
    "for i, (image_filename, points_filename, type_mode) in enumerate(files):\n",
    "    initial_number = get_number(image_filename)\n",
    "\n",
    "    ins = indoor if type_mode == 'indoor' else outdoor\n",
    "\n",
    "    path_x = os.path.join(dataset_source_folder, ins, image_filename)\n",
    "    path_y = os.path.join(dataset_source_folder, ins, points_filename)\n",
    "\n",
    "\n",
    "    x, y, global_var = preprocessing_image(path_x, path_y, global_var)\n",
    "    y = np.array(y)\n",
    "    save_data(i, x, y, initial_number, type_mode)\n",
    "\n",
    "print(\"END\")"
   ],
   "metadata": {
    "collapsed": false
   }
  },
  {
   "cell_type": "code",
   "execution_count": 27,
   "outputs": [
    {
     "name": "stdout",
     "output_type": "stream",
     "text": [
      "{'max_width': -1, 'max_height': -1, 'min_height': 99999, 'min_width': 99999}\n"
     ]
    }
   ],
   "source": [
    "print(global_var)\n"
   ],
   "metadata": {
    "collapsed": false
   }
  }
 ],
 "metadata": {
  "kernelspec": {
   "display_name": "Python 3",
   "language": "python",
   "name": "python3"
  },
  "language_info": {
   "codemirror_mode": {
    "name": "ipython",
    "version": 2
   },
   "file_extension": ".py",
   "mimetype": "text/x-python",
   "name": "python",
   "nbconvert_exporter": "python",
   "pygments_lexer": "ipython2",
   "version": "2.7.6"
  }
 },
 "nbformat": 4,
 "nbformat_minor": 0
}
