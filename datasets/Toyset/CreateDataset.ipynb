{
 "cells": [
  {
   "cell_type": "code",
   "execution_count": 1,
   "outputs": [],
   "source": [
    "import os\n",
    "from PIL import Image\n",
    "import numpy as np\n"
   ],
   "metadata": {
    "collapsed": false
   }
  },
  {
   "cell_type": "code",
   "execution_count": 2,
   "metadata": {
    "collapsed": true
   },
   "outputs": [],
   "source": [
    "dataset_source_folder = \"fixed_toyset/params.csv\"\n",
    "dataset_destination_folder = \"C:/Users/tmayet/Documents/datasets/toyset_128_swap/\""
   ]
  },
  {
   "cell_type": "code",
   "execution_count": 3,
   "outputs": [
    {
     "name": "stdout",
     "output_type": "stream",
     "text": [
      "end\n"
     ]
    }
   ],
   "source": [
    "from datasets.Toyset.toydataset import ToyDataset_old\n",
    "\n",
    "ToyDataset_old.FIXED_BASE = \"fixed_toyset\"\n",
    "ToyDataset_old.DATAPATH = \"../../data/\"\n",
    "\n",
    "dataset = ToyDataset_old(\n",
    "\timage_size=[128, 128],\n",
    "\tswap_segmentation=True,\n",
    "\tfrom_fixed=True,\n",
    "\tmodes={'NONE'},\n",
    "\treturn_mode=False,\n",
    "\tproportion_xy=1.,\n",
    "\tproportion_x=0,\n",
    "\tproportion_y=0,\n",
    "\tmode2mask=None,\n",
    ")\n",
    "for iteration, (x, y) in enumerate(dataset):\n",
    "    x = x.reshape([128,128])\n",
    "    y = y.reshape([128,128])\n",
    "\n",
    "    # Save as numpy array\n",
    "    x_save_path = os.path.join(dataset_destination_folder, f'{iteration}_x')\n",
    "    y_save_path = os.path.join(dataset_destination_folder, f'{iteration}_y')\n",
    "\n",
    "    np.save(x_save_path + \"_numpy\", x)\n",
    "    np.save(y_save_path + \"_numpy\", y)\n",
    "    # Save as image\n",
    "    x_image = Image.fromarray(x*255).convert('RGB')\n",
    "    y_image = Image.fromarray(y*255).convert('RGB')\n",
    "    x_image.save(x_save_path + \".jpeg\")\n",
    "    y_image.save(y_save_path + \".jpeg\")\n",
    "print(\"end\")\n"
   ],
   "metadata": {
    "collapsed": false
   }
  }
 ],
 "metadata": {
  "kernelspec": {
   "display_name": "Python 3",
   "language": "python",
   "name": "python3"
  },
  "language_info": {
   "codemirror_mode": {
    "name": "ipython",
    "version": 2
   },
   "file_extension": ".py",
   "mimetype": "text/x-python",
   "name": "python",
   "nbconvert_exporter": "python",
   "pygments_lexer": "ipython2",
   "version": "2.7.6"
  }
 },
 "nbformat": 4,
 "nbformat_minor": 0
}
